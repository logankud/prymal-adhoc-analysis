{
 "cells": [
  {
   "cell_type": "markdown",
   "metadata": {},
   "source": [
    "# Requirements"
   ]
  },
  {
   "cell_type": "code",
   "execution_count": 1,
   "metadata": {},
   "outputs": [],
   "source": [
    "import boto3 \n",
    "import botocore\n",
    "from botocore.exceptions import BotoCoreError, ClientError, NoCredentialsError, PartialCredentialsError, ParamValidationError, WaiterError\n",
    "import loguru\n",
    "from loguru import logger\n",
    "import os\n",
    "import pandas as pd\n",
    "import numpy as np\n",
    "from datetime import timedelta\n",
    "import statistics\n",
    "import datetime\n",
    "from datetime import timedelta\n",
    "import plotly.express as px\n",
    "import plotly.graph_objects as go\n",
    "\n",
    "from scipy.stats import chi2_contingency\n",
    "\n",
    "\n",
    "os.environ['AWS_ACCESS_KEY']=''\n",
    "os.environ['AWS_ACCESS_SECRET']= ''\n",
    "\n",
    "AWS_ACCESS_KEY_ID=os.environ['AWS_ACCESS_KEY']\n",
    "AWS_SECRET_ACCESS_KEY=os.environ['AWS_ACCESS_SECRET']"
   ]
  },
  {
   "cell_type": "markdown",
   "metadata": {},
   "source": [
    "# Functions"
   ]
  },
  {
   "cell_type": "code",
   "execution_count": 2,
   "metadata": {},
   "outputs": [],
   "source": [
    "\n",
    "# ---------------------------------------\n",
    "# FUNCTIONS\n",
    "# ---------------------------------------\n",
    "\n",
    "# FUNCTION TO EXECUTE ATHENA QUERY AND RETURN RESULTS\n",
    "# ----------\n",
    "\n",
    "def run_athena_query(query:str, database: str, region:str):\n",
    "\n",
    "        \n",
    "    # Initialize Athena client\n",
    "    athena_client = boto3.client('athena', \n",
    "                                 region_name=region,\n",
    "                                 aws_access_key_id=AWS_ACCESS_KEY_ID,\n",
    "                                 aws_secret_access_key=AWS_SECRET_ACCESS_KEY)\n",
    "\n",
    "    # Execute the query\n",
    "    try:\n",
    "        response = athena_client.start_query_execution(\n",
    "            QueryString=query,\n",
    "            QueryExecutionContext={\n",
    "                'Database': database\n",
    "            },\n",
    "            ResultConfiguration={\n",
    "                'OutputLocation': 's3://prymal-ops/athena_query_results/'  # Specify your S3 bucket for query results\n",
    "            }\n",
    "        )\n",
    "\n",
    "        query_execution_id = response['QueryExecutionId']\n",
    "\n",
    "        # Wait for the query to complete\n",
    "        state = 'RUNNING'\n",
    "        logger.info(f'Running query..')\n",
    "\n",
    "        while (state in ['RUNNING', 'QUEUED']):\n",
    "            response = athena_client.get_query_execution(QueryExecutionId = query_execution_id)\n",
    "            \n",
    "            if 'QueryExecution' in response and 'Status' in response['QueryExecution'] and 'State' in response['QueryExecution']['Status']:\n",
    "                # Get currentstate\n",
    "                state = response['QueryExecution']['Status']['State']\n",
    "\n",
    "                if state == 'FAILED':\n",
    "                    logger.error('Query Failed!')\n",
    "                elif state == 'SUCCEEDED':\n",
    "                    logger.info('Query Succeeded!')\n",
    "            \n",
    "\n",
    "        # OBTAIN DATA\n",
    "\n",
    "        # --------------\n",
    "\n",
    "\n",
    "\n",
    "        query_results = athena_client.get_query_results(QueryExecutionId=query_execution_id,\n",
    "                                                MaxResults= 1000)\n",
    "        \n",
    "\n",
    "\n",
    "        # Extract qury result column names into a list  \n",
    "\n",
    "        cols = query_results['ResultSet']['ResultSetMetadata']['ColumnInfo']\n",
    "        col_names = [col['Name'] for col in cols]\n",
    "\n",
    "\n",
    "\n",
    "        # Extract query result data rows\n",
    "        data_rows = query_results['ResultSet']['Rows'][1:]\n",
    "\n",
    "\n",
    "\n",
    "        # Convert data rows into a list of lists\n",
    "        query_results_data = [[r['VarCharValue'] if 'VarCharValue' in r else np.NaN for r in row['Data']] for row in data_rows]\n",
    "\n",
    "\n",
    "\n",
    "        # Paginate Results if necessary\n",
    "        while 'NextToken' in query_results:\n",
    "                query_results = athena_client.get_query_results(QueryExecutionId=query_execution_id,\n",
    "                                                NextToken=query_results['NextToken'],\n",
    "                                                MaxResults= 1000)\n",
    "\n",
    "\n",
    "\n",
    "                # Extract quuery result data rows\n",
    "                data_rows = query_results['ResultSet']['Rows'][1:]\n",
    "\n",
    "\n",
    "                # Convert data rows into a list of lists\n",
    "                query_results_data.extend([[r['VarCharValue'] if 'VarCharValue' in r else np.NaN for r in row['Data']] for row in data_rows])\n",
    "\n",
    "\n",
    "\n",
    "        results_df = pd.DataFrame(query_results_data, columns = col_names)\n",
    "        \n",
    "        return results_df\n",
    "\n",
    "\n",
    "    except ParamValidationError as e:\n",
    "        logger.error(f\"Validation Error (potential SQL query issue): {e}\")\n",
    "        # Handle invalid parameters in the request, such as an invalid SQL query\n",
    "\n",
    "    except WaiterError as e:\n",
    "        logger.error(f\"Waiter Error: {e}\")\n",
    "        # Handle errors related to waiting for query execution\n",
    "\n",
    "    except ClientError as e:\n",
    "        error_code = e.response['Error']['Code']\n",
    "        error_message = e.response['Error']['Message']\n",
    "        \n",
    "        if error_code == 'InvalidRequestException':\n",
    "            logger.error(f\"Invalid Request Exception: {error_message}\")\n",
    "            # Handle issues with the Athena request, such as invalid SQL syntax\n",
    "            \n",
    "        elif error_code == 'ResourceNotFoundException':\n",
    "            logger.error(f\"Resource Not Found Exception: {error_message}\")\n",
    "            # Handle cases where the database or query execution does not exist\n",
    "            \n",
    "        elif error_code == 'AccessDeniedException':\n",
    "            logger.error(f\"Access Denied Exception: {error_message}\")\n",
    "            # Handle cases where the IAM role does not have sufficient permissions\n",
    "            \n",
    "        else:\n",
    "            logger.error(f\"Athena Error: {error_code} - {error_message}\")\n",
    "            # Handle other Athena-related errors\n",
    "\n",
    "    except Exception as e:\n",
    "        logger.error(f\"Other Exception: {str(e)}\")\n",
    "        # Handle any other unexpected exceptions\n",
    "\n",
    "\n",
    "\n"
   ]
  },
  {
   "cell_type": "markdown",
   "metadata": {},
   "source": [
    "# Query shopify line item data from data lake"
   ]
  },
  {
   "cell_type": "code",
   "execution_count": 3,
   "metadata": {},
   "outputs": [
    {
     "name": "stderr",
     "output_type": "stream",
     "text": [
      "\u001b[32m2024-02-18 11:29:52.998\u001b[0m | \u001b[1mINFO    \u001b[0m | \u001b[36m__main__\u001b[0m:\u001b[36mrun_athena_query\u001b[0m:\u001b[36m33\u001b[0m - \u001b[1mRunning query..\u001b[0m\n",
      "\u001b[32m2024-02-18 11:29:59.832\u001b[0m | \u001b[1mINFO    \u001b[0m | \u001b[36m__main__\u001b[0m:\u001b[36mrun_athena_query\u001b[0m:\u001b[36m45\u001b[0m - \u001b[1mQuery Succeeded!\u001b[0m\n"
     ]
    }
   ],
   "source": [
    "\n",
    "DATABASE = 'prymal-analytics'\n",
    "REGION = 'us-east-1'\n",
    "\n",
    "# QUERY ATHENA\n",
    "# ------------------------------------------------------------------------------\n",
    "\n",
    "QUERY = f\"\"\"SELECT a.*\n",
    "            , b.sku_name\n",
    "            , b.product_category\n",
    "            , b.product_type\n",
    "            FROM \"prymal\".\"shopify_line_items\"  a\n",
    "            LEFT JOIN \"prymal\".\"skus_shopify\" b\n",
    "            ON a.sku = b.sku \n",
    "            \n",
    "\n",
    "            \"\"\"\n",
    "\n",
    "# Query datalake to get quantiy sold per sku for the last 120 days\n",
    "# ----\n",
    "\n",
    "result_df = run_athena_query(query=QUERY, database=DATABASE, region=REGION)\n"
   ]
  },
  {
   "cell_type": "markdown",
   "metadata": {},
   "source": [
    "# Format Data & Calculate Retention Rate by Cohort Month"
   ]
  },
  {
   "cell_type": "markdown",
   "metadata": {},
   "source": [
    "#### Set Hero SKU(s)"
   ]
  },
  {
   "cell_type": "code",
   "execution_count": 7,
   "metadata": {},
   "outputs": [],
   "source": [
    "# Set Hero SKU (or sku to compare users that did / did not have in their first order) - used to check against 'product_type' value in line item data\n",
    "hero_sku = ['Limited Edition Creamer - Large Bag']"
   ]
  },
  {
   "cell_type": "code",
   "execution_count": 18,
   "metadata": {},
   "outputs": [
    {
     "data": {
      "text/plain": [
       "array(['Pumpkin Spice - Large Bag (320 g)',\n",
       "       'King Cake - Large Bag (320 g)',\n",
       "       'Santas Cookies - Large Bag (320 g)',\n",
       "       'French Toast - Large Bag (320 g)',\n",
       "       'Peppermint Mocha - Large Bag (320 g)',\n",
       "       'Speculoos Cookie Dough - Large Bag (320 g)',\n",
       "       'Red Velvet Cake - Large Bag (320 g)',\n",
       "       'Butterscotch Toffee - Large Bag (320 g)',\n",
       "       'Honey Bunches - Large Bag (320 g)',\n",
       "       'Carrot Cake - Large Bag (320 g)',\n",
       "       'Blueberry Pancakes - Large Bag (320 g)',\n",
       "       'Irish Cream - Large Bag (320 g)',\n",
       "       'Nutella Latte - Large Bag (320 g)',\n",
       "       'White Chocolate Mocha - Large Bag (320 g)',\n",
       "       'Samoa Cookie - Large Bag (320 g)',\n",
       "       'Pistachio Ice Cream - Large Bag (320 g)',\n",
       "       'Smores - Large Bag (320 g)',\n",
       "       'Fruit Loops Cereal Milk - Large Bag (320 g)',\n",
       "       'French Toast Crunch - Large Bag (320 g)'], dtype=object)"
      ]
     },
     "execution_count": 18,
     "metadata": {},
     "output_type": "execute_result"
    }
   ],
   "source": [
    "result_df.loc[result_df['product_type'].isin(hero_sku),'sku_name'].unique()"
   ]
  },
  {
   "cell_type": "markdown",
   "metadata": {},
   "source": [
    "#### Group by whether first order contained hero SKU(s), calculate retention rate by first order month cohort"
   ]
  },
  {
   "cell_type": "code",
   "execution_count": 8,
   "metadata": {},
   "outputs": [
    {
     "name": "stdout",
     "output_type": "stream",
     "text": [
      "Length of first_order: 91615 \n"
     ]
    }
   ],
   "source": [
    "# Copy of athena query results\n",
    "data = result_df.copy()\n",
    "\n",
    "# Convert 'order_date' to datetime\n",
    "data['order_date'] = pd.to_datetime(data['order_date'].apply(lambda x: x[:11]))   # for cases where order_date is datatime, only use first 11 characters (YYYY-MM-DD)\n",
    "\n",
    "\n",
    "# Identify First Orders\n",
    "first_order = data.groupby('email',as_index=False)['order_date'].min()\n",
    "first_order.columns = ['email', 'first_order_date']\n",
    "\n",
    "first_order['cohort_month'] = pd.to_datetime(first_order['first_order_date']).dt.strftime('%Y-%m')\n",
    "\n",
    "print(f'Length of first_order: {len(first_order)} ')\n",
    "\n",
    "# Merge this information back to the main data\n",
    "merged_data = pd.merge(data, first_order, on='email')\n",
    "\n",
    "# Classify Customers Based on Hero SKU\n",
    "merged_data['first_order_contains_hero_sku'] = False\n",
    "merged_data.loc[(merged_data['product_type'].isin(hero_sku))&(merged_data['order_date']==merged_data['first_order_date']),'first_order_contains_hero_sku'] = True\n",
    "\n",
    "\n",
    "# Identify Repeat Purchases\n",
    "customer_purchases = merged_data.groupby('email').apply(\n",
    "    lambda x: (x['order_date'] > x['first_order_date']).any()).reset_index()\n",
    "customer_purchases.columns = ['email', 'made_subsequent_purchase']\n",
    "\n",
    "\n",
    "\n",
    "# Prepare a DataFrame to store the results\n",
    "retention_rate_by_cohort_df = pd.DataFrame(columns=['Cohort', 'Retention Rate', 'Group'])\n",
    "\n",
    "# Calculate retention rate for each cohort's customers\n",
    "for month in merged_data['cohort_month'].unique():\n",
    "    period_data = merged_data[merged_data['cohort_month'] == month]\n",
    "\n",
    "    # Repeat the classification and retention rate calculation for the period\n",
    "    first_order_period = period_data.groupby('email')['first_order_date'].min().reset_index()\n",
    "    customer_classification_period = pd.merge(first_order_period, customer_purchases, on='email')\n",
    "    customer_classification_period = pd.merge(customer_classification_period, \n",
    "                                              period_data[['email', 'first_order_contains_hero_sku']].drop_duplicates(), \n",
    "                                              on='email')\n",
    "\n",
    "    # Calculate retention rate for customers who had hero sku in first order \n",
    "    retention_rate_hero_sku = customer_classification_period[\n",
    "        customer_classification_period['first_order_contains_hero_sku']]['made_subsequent_purchase'].mean()\n",
    "    \n",
    "    # Calculate retention rate for customers who did not have hero sku in first order \n",
    "    retention_rate_no_hero_sku = customer_classification_period[\n",
    "        ~customer_classification_period['first_order_contains_hero_sku']]['made_subsequent_purchase'].mean()\n",
    "\n",
    "    # Append results to DataFrame\n",
    "    retention_rate_by_cohort_df = retention_rate_by_cohort_df.append({'Cohort': month, 'Retention Rate': retention_rate_hero_sku, 'Group': 'Hero SKU'}, ignore_index=True)\n",
    "    retention_rate_by_cohort_df = retention_rate_by_cohort_df.append({'Cohort': month, 'Retention Rate': retention_rate_no_hero_sku, 'Group': 'No Hero SKU'}, ignore_index=True)\n",
    "\n",
    "# Convert 'Period' to string for Plotly\n",
    "retention_rate_by_cohort_df['Cohort'] = pd.to_datetime(retention_rate_by_cohort_df['Cohort']).dt.strftime('%Y-%m')"
   ]
  },
  {
   "cell_type": "markdown",
   "metadata": {},
   "source": [
    "# Plot Retention Rate by Cohort Month"
   ]
  },
  {
   "cell_type": "markdown",
   "metadata": {},
   "source": [
    "#### Rename 'Hero SKU' group for plotting"
   ]
  },
  {
   "cell_type": "code",
   "execution_count": 10,
   "metadata": {},
   "outputs": [],
   "source": [
    "retention_rate_by_cohort_df.loc[retention_rate_by_cohort_df['Group']=='Hero SKU','Group'] = 'Hero SKU - At Least One Limited Edition Large Bag'"
   ]
  },
  {
   "cell_type": "markdown",
   "metadata": {},
   "source": [
    "#### Plot observed retention rate by cohort over time"
   ]
  },
  {
   "cell_type": "code",
   "execution_count": 11,
   "metadata": {},
   "outputs": [
    {
     "data": {
      "application/vnd.plotly.v1+json": {
       "config": {
        "plotlyServerURL": "https://plot.ly"
       },
       "data": [
        {
         "hovertemplate": "Group=No Hero SKU<br>Cohort=%{x}<br>Retention Rate=%{y}<extra></extra>",
         "legendgroup": "No Hero SKU",
         "line": {
          "color": "#636efa",
          "dash": "solid"
         },
         "mode": "lines",
         "name": "No Hero SKU",
         "orientation": "v",
         "showlegend": true,
         "type": "scatter",
         "x": [
          "2018-09",
          "2018-10",
          "2018-11",
          "2018-12",
          "2019-01",
          "2019-02",
          "2019-03",
          "2019-04",
          "2019-05",
          "2019-06",
          "2019-07",
          "2019-08",
          "2019-09",
          "2019-10",
          "2019-11",
          "2019-12",
          "2020-01",
          "2020-02",
          "2020-03",
          "2020-04",
          "2020-05",
          "2020-06",
          "2020-07",
          "2020-08",
          "2020-09",
          "2020-10",
          "2020-11",
          "2020-12",
          "2021-01",
          "2021-02",
          "2021-03",
          "2021-04",
          "2021-05",
          "2021-06",
          "2021-07",
          "2021-08",
          "2021-09",
          "2021-10",
          "2021-11",
          "2021-12",
          "2022-01",
          "2022-02",
          "2022-03",
          "2022-04",
          "2022-05",
          "2022-06",
          "2022-07",
          "2022-08",
          "2022-09",
          "2022-10",
          "2022-11",
          "2022-12",
          "2023-01",
          "2023-02",
          "2023-03",
          "2023-04",
          "2023-05",
          "2023-06",
          "2023-07",
          "2023-08",
          "2023-09",
          "2023-10",
          "2023-11",
          "2023-12",
          "2024-01",
          "2024-02"
         ],
         "xaxis": "x",
         "y": [
          0.6034063260340633,
          0.45417515274949083,
          0.35377358490566035,
          0.41420118343195267,
          0.38144329896907214,
          0.30727762803234504,
          0.2958579881656805,
          0.2706043956043956,
          0.26277372262773724,
          0.2110912343470483,
          0.2595993322203673,
          0.24812967581047382,
          0.2528925619834711,
          0.2388663967611336,
          0.31654676258992803,
          0.31894484412470026,
          0.2772523643603783,
          0.26623725174449814,
          0.2810344827586207,
          0.2699167657550535,
          0.23777864685177943,
          0.2960927960927961,
          0.23238095238095238,
          0.26868250539956806,
          0.297148114075437,
          0.3555114200595829,
          0.3171774768353528,
          0.259047619047619,
          0.2453416149068323,
          0.256394640682095,
          0.2391167192429022,
          0.24092409240924093,
          0.1963470319634703,
          0.1695786228160329,
          0.17820206841686556,
          0.1726027397260274,
          0.18900729108244532,
          0.21675302245250433,
          0.22777777777777777,
          0.18993135011441648,
          0.16993202718912434,
          0.16535433070866143,
          0.13623595505617977,
          0.1423020883924235,
          0.14962010520163646,
          0.137621540762902,
          0.17361894024802707,
          0.19373219373219372,
          0.17991004497751126,
          0.19934640522875818,
          0.23865877712031558,
          0.22103386809269163,
          0.16356877323420074,
          0.17256637168141592,
          0.14528207688467298,
          0.1791845493562232,
          0.15708812260536398,
          0.17935349322210636,
          0.1946564885496183,
          0.16567342073897498,
          0.175,
          0.20266990291262135,
          0.1937244201909959,
          0.15781710914454278,
          0.10351201478743069,
          0.037122969837587005
         ],
         "yaxis": "y"
        },
        {
         "hovertemplate": "Group=Hero SKU - At Least One Limited Edition Large Bag<br>Cohort=%{x}<br>Retention Rate=%{y}<extra></extra>",
         "legendgroup": "Hero SKU - At Least One Limited Edition Large Bag",
         "line": {
          "color": "#EF553B",
          "dash": "solid"
         },
         "mode": "lines",
         "name": "Hero SKU - At Least One Limited Edition Large Bag",
         "orientation": "v",
         "showlegend": true,
         "type": "scatter",
         "x": [
          "2018-09",
          "2018-10",
          "2018-11",
          "2018-12",
          "2019-01",
          "2019-02",
          "2019-03",
          "2019-04",
          "2019-05",
          "2019-06",
          "2019-07",
          "2019-08",
          "2019-09",
          "2019-10",
          "2019-11",
          "2019-12",
          "2020-01",
          "2020-02",
          "2020-03",
          "2020-04",
          "2020-05",
          "2020-06",
          "2020-07",
          "2020-08",
          "2020-09",
          "2020-10",
          "2020-11",
          "2020-12",
          "2021-01",
          "2021-02",
          "2021-03",
          "2021-04",
          "2021-05",
          "2021-06",
          "2021-07",
          "2021-08",
          "2021-09",
          "2021-10",
          "2021-11",
          "2021-12",
          "2022-01",
          "2022-02",
          "2022-03",
          "2022-04",
          "2022-05",
          "2022-06",
          "2022-07",
          "2022-08",
          "2022-09",
          "2022-10",
          "2022-11",
          "2022-12",
          "2023-01",
          "2023-02",
          "2023-03",
          "2023-04",
          "2023-05",
          "2023-06",
          "2023-07",
          "2023-08",
          "2023-09",
          "2023-10",
          "2023-11",
          "2023-12",
          "2024-01",
          "2024-02"
         ],
         "xaxis": "x",
         "y": [
          null,
          null,
          null,
          null,
          null,
          null,
          null,
          null,
          null,
          null,
          null,
          0.125,
          0.375,
          0.2761904761904762,
          0.3798449612403101,
          0.32113821138211385,
          0.25573192239858905,
          0.3765281173594132,
          0.32515337423312884,
          0.2746478873239437,
          0.3076923076923077,
          0.35135135135135137,
          0.2696245733788396,
          0.31802120141342755,
          null,
          0.4088669950738916,
          0.33774834437086093,
          0.2906832298136646,
          0.2700803212851406,
          0.33078880407124683,
          0.21875,
          0.26666666666666666,
          0.26666666666666666,
          0.30434782608695654,
          0.24427480916030533,
          0.2781954887218045,
          0.248,
          0.41284403669724773,
          0.27755102040816326,
          0.18614718614718614,
          0.23076923076923078,
          0.22291021671826625,
          0.1860986547085202,
          0.2087378640776699,
          0.2695035460992908,
          0.31313131313131315,
          0.3048780487804878,
          0.2611464968152866,
          0.19753086419753085,
          0.2314410480349345,
          0.27459016393442626,
          0.2696078431372549,
          0.19284294234592445,
          0.21016949152542372,
          0.28695652173913044,
          0.3898305084745763,
          0.28448275862068967,
          0.28125,
          0.2962962962962963,
          0.2789115646258503,
          0.1887966804979253,
          0.23048327137546468,
          0.18769230769230769,
          0.12195121951219512,
          0.14383561643835616,
          0.0375
         ],
         "yaxis": "y"
        }
       ],
       "layout": {
        "legend": {
         "title": {
          "text": "Group"
         },
         "tracegroupgap": 0
        },
        "template": {
         "data": {
          "bar": [
           {
            "error_x": {
             "color": "#2a3f5f"
            },
            "error_y": {
             "color": "#2a3f5f"
            },
            "marker": {
             "line": {
              "color": "#E5ECF6",
              "width": 0.5
             },
             "pattern": {
              "fillmode": "overlay",
              "size": 10,
              "solidity": 0.2
             }
            },
            "type": "bar"
           }
          ],
          "barpolar": [
           {
            "marker": {
             "line": {
              "color": "#E5ECF6",
              "width": 0.5
             },
             "pattern": {
              "fillmode": "overlay",
              "size": 10,
              "solidity": 0.2
             }
            },
            "type": "barpolar"
           }
          ],
          "carpet": [
           {
            "aaxis": {
             "endlinecolor": "#2a3f5f",
             "gridcolor": "white",
             "linecolor": "white",
             "minorgridcolor": "white",
             "startlinecolor": "#2a3f5f"
            },
            "baxis": {
             "endlinecolor": "#2a3f5f",
             "gridcolor": "white",
             "linecolor": "white",
             "minorgridcolor": "white",
             "startlinecolor": "#2a3f5f"
            },
            "type": "carpet"
           }
          ],
          "choropleth": [
           {
            "colorbar": {
             "outlinewidth": 0,
             "ticks": ""
            },
            "type": "choropleth"
           }
          ],
          "contour": [
           {
            "colorbar": {
             "outlinewidth": 0,
             "ticks": ""
            },
            "colorscale": [
             [
              0,
              "#0d0887"
             ],
             [
              0.1111111111111111,
              "#46039f"
             ],
             [
              0.2222222222222222,
              "#7201a8"
             ],
             [
              0.3333333333333333,
              "#9c179e"
             ],
             [
              0.4444444444444444,
              "#bd3786"
             ],
             [
              0.5555555555555556,
              "#d8576b"
             ],
             [
              0.6666666666666666,
              "#ed7953"
             ],
             [
              0.7777777777777778,
              "#fb9f3a"
             ],
             [
              0.8888888888888888,
              "#fdca26"
             ],
             [
              1,
              "#f0f921"
             ]
            ],
            "type": "contour"
           }
          ],
          "contourcarpet": [
           {
            "colorbar": {
             "outlinewidth": 0,
             "ticks": ""
            },
            "type": "contourcarpet"
           }
          ],
          "heatmap": [
           {
            "colorbar": {
             "outlinewidth": 0,
             "ticks": ""
            },
            "colorscale": [
             [
              0,
              "#0d0887"
             ],
             [
              0.1111111111111111,
              "#46039f"
             ],
             [
              0.2222222222222222,
              "#7201a8"
             ],
             [
              0.3333333333333333,
              "#9c179e"
             ],
             [
              0.4444444444444444,
              "#bd3786"
             ],
             [
              0.5555555555555556,
              "#d8576b"
             ],
             [
              0.6666666666666666,
              "#ed7953"
             ],
             [
              0.7777777777777778,
              "#fb9f3a"
             ],
             [
              0.8888888888888888,
              "#fdca26"
             ],
             [
              1,
              "#f0f921"
             ]
            ],
            "type": "heatmap"
           }
          ],
          "heatmapgl": [
           {
            "colorbar": {
             "outlinewidth": 0,
             "ticks": ""
            },
            "colorscale": [
             [
              0,
              "#0d0887"
             ],
             [
              0.1111111111111111,
              "#46039f"
             ],
             [
              0.2222222222222222,
              "#7201a8"
             ],
             [
              0.3333333333333333,
              "#9c179e"
             ],
             [
              0.4444444444444444,
              "#bd3786"
             ],
             [
              0.5555555555555556,
              "#d8576b"
             ],
             [
              0.6666666666666666,
              "#ed7953"
             ],
             [
              0.7777777777777778,
              "#fb9f3a"
             ],
             [
              0.8888888888888888,
              "#fdca26"
             ],
             [
              1,
              "#f0f921"
             ]
            ],
            "type": "heatmapgl"
           }
          ],
          "histogram": [
           {
            "marker": {
             "pattern": {
              "fillmode": "overlay",
              "size": 10,
              "solidity": 0.2
             }
            },
            "type": "histogram"
           }
          ],
          "histogram2d": [
           {
            "colorbar": {
             "outlinewidth": 0,
             "ticks": ""
            },
            "colorscale": [
             [
              0,
              "#0d0887"
             ],
             [
              0.1111111111111111,
              "#46039f"
             ],
             [
              0.2222222222222222,
              "#7201a8"
             ],
             [
              0.3333333333333333,
              "#9c179e"
             ],
             [
              0.4444444444444444,
              "#bd3786"
             ],
             [
              0.5555555555555556,
              "#d8576b"
             ],
             [
              0.6666666666666666,
              "#ed7953"
             ],
             [
              0.7777777777777778,
              "#fb9f3a"
             ],
             [
              0.8888888888888888,
              "#fdca26"
             ],
             [
              1,
              "#f0f921"
             ]
            ],
            "type": "histogram2d"
           }
          ],
          "histogram2dcontour": [
           {
            "colorbar": {
             "outlinewidth": 0,
             "ticks": ""
            },
            "colorscale": [
             [
              0,
              "#0d0887"
             ],
             [
              0.1111111111111111,
              "#46039f"
             ],
             [
              0.2222222222222222,
              "#7201a8"
             ],
             [
              0.3333333333333333,
              "#9c179e"
             ],
             [
              0.4444444444444444,
              "#bd3786"
             ],
             [
              0.5555555555555556,
              "#d8576b"
             ],
             [
              0.6666666666666666,
              "#ed7953"
             ],
             [
              0.7777777777777778,
              "#fb9f3a"
             ],
             [
              0.8888888888888888,
              "#fdca26"
             ],
             [
              1,
              "#f0f921"
             ]
            ],
            "type": "histogram2dcontour"
           }
          ],
          "mesh3d": [
           {
            "colorbar": {
             "outlinewidth": 0,
             "ticks": ""
            },
            "type": "mesh3d"
           }
          ],
          "parcoords": [
           {
            "line": {
             "colorbar": {
              "outlinewidth": 0,
              "ticks": ""
             }
            },
            "type": "parcoords"
           }
          ],
          "pie": [
           {
            "automargin": true,
            "type": "pie"
           }
          ],
          "scatter": [
           {
            "marker": {
             "colorbar": {
              "outlinewidth": 0,
              "ticks": ""
             }
            },
            "type": "scatter"
           }
          ],
          "scatter3d": [
           {
            "line": {
             "colorbar": {
              "outlinewidth": 0,
              "ticks": ""
             }
            },
            "marker": {
             "colorbar": {
              "outlinewidth": 0,
              "ticks": ""
             }
            },
            "type": "scatter3d"
           }
          ],
          "scattercarpet": [
           {
            "marker": {
             "colorbar": {
              "outlinewidth": 0,
              "ticks": ""
             }
            },
            "type": "scattercarpet"
           }
          ],
          "scattergeo": [
           {
            "marker": {
             "colorbar": {
              "outlinewidth": 0,
              "ticks": ""
             }
            },
            "type": "scattergeo"
           }
          ],
          "scattergl": [
           {
            "marker": {
             "colorbar": {
              "outlinewidth": 0,
              "ticks": ""
             }
            },
            "type": "scattergl"
           }
          ],
          "scattermapbox": [
           {
            "marker": {
             "colorbar": {
              "outlinewidth": 0,
              "ticks": ""
             }
            },
            "type": "scattermapbox"
           }
          ],
          "scatterpolar": [
           {
            "marker": {
             "colorbar": {
              "outlinewidth": 0,
              "ticks": ""
             }
            },
            "type": "scatterpolar"
           }
          ],
          "scatterpolargl": [
           {
            "marker": {
             "colorbar": {
              "outlinewidth": 0,
              "ticks": ""
             }
            },
            "type": "scatterpolargl"
           }
          ],
          "scatterternary": [
           {
            "marker": {
             "colorbar": {
              "outlinewidth": 0,
              "ticks": ""
             }
            },
            "type": "scatterternary"
           }
          ],
          "surface": [
           {
            "colorbar": {
             "outlinewidth": 0,
             "ticks": ""
            },
            "colorscale": [
             [
              0,
              "#0d0887"
             ],
             [
              0.1111111111111111,
              "#46039f"
             ],
             [
              0.2222222222222222,
              "#7201a8"
             ],
             [
              0.3333333333333333,
              "#9c179e"
             ],
             [
              0.4444444444444444,
              "#bd3786"
             ],
             [
              0.5555555555555556,
              "#d8576b"
             ],
             [
              0.6666666666666666,
              "#ed7953"
             ],
             [
              0.7777777777777778,
              "#fb9f3a"
             ],
             [
              0.8888888888888888,
              "#fdca26"
             ],
             [
              1,
              "#f0f921"
             ]
            ],
            "type": "surface"
           }
          ],
          "table": [
           {
            "cells": {
             "fill": {
              "color": "#EBF0F8"
             },
             "line": {
              "color": "white"
             }
            },
            "header": {
             "fill": {
              "color": "#C8D4E3"
             },
             "line": {
              "color": "white"
             }
            },
            "type": "table"
           }
          ]
         },
         "layout": {
          "annotationdefaults": {
           "arrowcolor": "#2a3f5f",
           "arrowhead": 0,
           "arrowwidth": 1
          },
          "autotypenumbers": "strict",
          "coloraxis": {
           "colorbar": {
            "outlinewidth": 0,
            "ticks": ""
           }
          },
          "colorscale": {
           "diverging": [
            [
             0,
             "#8e0152"
            ],
            [
             0.1,
             "#c51b7d"
            ],
            [
             0.2,
             "#de77ae"
            ],
            [
             0.3,
             "#f1b6da"
            ],
            [
             0.4,
             "#fde0ef"
            ],
            [
             0.5,
             "#f7f7f7"
            ],
            [
             0.6,
             "#e6f5d0"
            ],
            [
             0.7,
             "#b8e186"
            ],
            [
             0.8,
             "#7fbc41"
            ],
            [
             0.9,
             "#4d9221"
            ],
            [
             1,
             "#276419"
            ]
           ],
           "sequential": [
            [
             0,
             "#0d0887"
            ],
            [
             0.1111111111111111,
             "#46039f"
            ],
            [
             0.2222222222222222,
             "#7201a8"
            ],
            [
             0.3333333333333333,
             "#9c179e"
            ],
            [
             0.4444444444444444,
             "#bd3786"
            ],
            [
             0.5555555555555556,
             "#d8576b"
            ],
            [
             0.6666666666666666,
             "#ed7953"
            ],
            [
             0.7777777777777778,
             "#fb9f3a"
            ],
            [
             0.8888888888888888,
             "#fdca26"
            ],
            [
             1,
             "#f0f921"
            ]
           ],
           "sequentialminus": [
            [
             0,
             "#0d0887"
            ],
            [
             0.1111111111111111,
             "#46039f"
            ],
            [
             0.2222222222222222,
             "#7201a8"
            ],
            [
             0.3333333333333333,
             "#9c179e"
            ],
            [
             0.4444444444444444,
             "#bd3786"
            ],
            [
             0.5555555555555556,
             "#d8576b"
            ],
            [
             0.6666666666666666,
             "#ed7953"
            ],
            [
             0.7777777777777778,
             "#fb9f3a"
            ],
            [
             0.8888888888888888,
             "#fdca26"
            ],
            [
             1,
             "#f0f921"
            ]
           ]
          },
          "colorway": [
           "#636efa",
           "#EF553B",
           "#00cc96",
           "#ab63fa",
           "#FFA15A",
           "#19d3f3",
           "#FF6692",
           "#B6E880",
           "#FF97FF",
           "#FECB52"
          ],
          "font": {
           "color": "#2a3f5f"
          },
          "geo": {
           "bgcolor": "white",
           "lakecolor": "white",
           "landcolor": "#E5ECF6",
           "showlakes": true,
           "showland": true,
           "subunitcolor": "white"
          },
          "hoverlabel": {
           "align": "left"
          },
          "hovermode": "closest",
          "mapbox": {
           "style": "light"
          },
          "paper_bgcolor": "white",
          "plot_bgcolor": "#E5ECF6",
          "polar": {
           "angularaxis": {
            "gridcolor": "white",
            "linecolor": "white",
            "ticks": ""
           },
           "bgcolor": "#E5ECF6",
           "radialaxis": {
            "gridcolor": "white",
            "linecolor": "white",
            "ticks": ""
           }
          },
          "scene": {
           "xaxis": {
            "backgroundcolor": "#E5ECF6",
            "gridcolor": "white",
            "gridwidth": 2,
            "linecolor": "white",
            "showbackground": true,
            "ticks": "",
            "zerolinecolor": "white"
           },
           "yaxis": {
            "backgroundcolor": "#E5ECF6",
            "gridcolor": "white",
            "gridwidth": 2,
            "linecolor": "white",
            "showbackground": true,
            "ticks": "",
            "zerolinecolor": "white"
           },
           "zaxis": {
            "backgroundcolor": "#E5ECF6",
            "gridcolor": "white",
            "gridwidth": 2,
            "linecolor": "white",
            "showbackground": true,
            "ticks": "",
            "zerolinecolor": "white"
           }
          },
          "shapedefaults": {
           "line": {
            "color": "#2a3f5f"
           }
          },
          "ternary": {
           "aaxis": {
            "gridcolor": "white",
            "linecolor": "white",
            "ticks": ""
           },
           "baxis": {
            "gridcolor": "white",
            "linecolor": "white",
            "ticks": ""
           },
           "bgcolor": "#E5ECF6",
           "caxis": {
            "gridcolor": "white",
            "linecolor": "white",
            "ticks": ""
           }
          },
          "title": {
           "x": 0.05
          },
          "xaxis": {
           "automargin": true,
           "gridcolor": "white",
           "linecolor": "white",
           "ticks": "",
           "title": {
            "standoff": 15
           },
           "zerolinecolor": "white",
           "zerolinewidth": 2
          },
          "yaxis": {
           "automargin": true,
           "gridcolor": "white",
           "linecolor": "white",
           "ticks": "",
           "title": {
            "standoff": 15
           },
           "zerolinecolor": "white",
           "zerolinewidth": 2
          }
         }
        },
        "title": {
         "text": "First Time Customer Retention Rate Over Time"
        },
        "xaxis": {
         "anchor": "y",
         "domain": [
          0,
          1
         ],
         "title": {
          "text": "Cohort Month"
         },
         "type": "category"
        },
        "yaxis": {
         "anchor": "x",
         "domain": [
          0,
          1
         ],
         "tickformat": ".0%",
         "title": {
          "text": "Retention Rate"
         }
        }
       }
      }
     },
     "metadata": {},
     "output_type": "display_data"
    }
   ],
   "source": [
    "# Create the Plotly Express line plot\n",
    "fig = px.line(retention_rate_by_cohort_df.sort_values('Cohort',ascending=True), x='Cohort', y='Retention Rate', color='Group', title='First Time Customer Retention Rate Over Time')\n",
    "\n",
    "fig.update_xaxes(type='category',title_text='Cohort Month')\n",
    "\n",
    "# Update y-axis to display as percentage\n",
    "fig.update_layout(yaxis_tickformat = '.0%')\n",
    "\n",
    "fig.show()"
   ]
  },
  {
   "cell_type": "markdown",
   "metadata": {},
   "source": [
    "# Check for statistical significane"
   ]
  },
  {
   "cell_type": "markdown",
   "metadata": {},
   "source": [
    "#### Format data for chi-square test"
   ]
  },
  {
   "cell_type": "code",
   "execution_count": 15,
   "metadata": {},
   "outputs": [],
   "source": [
    "# Compile customer-level classification\n",
    "customer_classification = pd.merge(first_order, customer_purchases, on='email')\n",
    "customer_classification = pd.merge(customer_classification, \n",
    "                                   merged_data[['email', 'first_order_contains_hero_sku']].drop_duplicates(), \n",
    "                                   on='email')\n",
    "\n",
    "# Subset to just 2023 (excluding 2024 through February to avoid customers who haven't had enough time to repeat)\n",
    "customer_classification_2023 = customer_classification.loc[(customer_classification['first_order_date']>pd.to_datetime('2023-01-01'))&(customer_classification['first_order_date']<pd.to_datetime('2024-01-01'))].copy()\n",
    "\n",
    "# Months < 2022-12 are old kickstarter bundle, > 2022-12 are sachet kickstarter bundle\n",
    "customer_classification_2023.loc[(customer_classification_2023['first_order_contains_hero_sku']==False),'Group'] = 'No Hero SKU'\n",
    "customer_classification_2023.loc[(customer_classification_2023['first_order_contains_hero_sku']==True) ,'Group'] = 'Hero SKU - At Least One Limited Edition Large Bag'\n",
    "\n",
    "# Aggregate results for each group\n",
    "results_by_group = customer_classification_2023.groupby(['Group','made_subsequent_purchase'],as_index=False)['email'].nunique()\n",
    "\n",
    "# Pivot the data to create a contingency table\n",
    "contingency_table = results_by_group.pivot_table(index='Group', columns='made_subsequent_purchase', values='email', aggfunc='sum').reset_index()\n",
    "\n",
    "# Drop the 'Group' column to match the format needed for chi2_contingency\n",
    "contingency_matrix = contingency_table.drop('Group', axis=1).values"
   ]
  },
  {
   "cell_type": "markdown",
   "metadata": {},
   "source": [
    "#### Chi-square test for independence"
   ]
  },
  {
   "cell_type": "code",
   "execution_count": 16,
   "metadata": {},
   "outputs": [
    {
     "name": "stdout",
     "output_type": "stream",
     "text": [
      "Hero SKU population observed retention rate: 0.28016453382084094\n",
      "No-Hero SKU population observed retention rate: 0.20522036799315363\n",
      "Chi-square value: 37.28879067361455\n",
      "P-value: 1.0186844395218788e-09\n",
      "Degrees of freedom: 1\n",
      "Expected frequencies: \n",
      "[[ 2301.4850154   499.5149846]\n",
      " [11571.5149846  2511.4850154]]\n",
      "There is a significant association between the group and retention status (reject H0).\n"
     ]
    }
   ],
   "source": [
    "\n",
    "\n",
    "\n",
    "hero_sku_group_rate = contingency_matrix[0][1] / contingency_matrix[0][0]\n",
    "no_hero_sku_group_rate = contingency_matrix[1][1] / contingency_matrix[1][0]\n",
    "\n",
    "print(f\"Hero SKU population observed retention rate: {hero_sku_group_rate}\")\n",
    "print(f\"No-Hero SKU population observed retention rate: {no_hero_sku_group_rate}\")\n",
    "\n",
    "# Perform the Chi-square test\n",
    "chi2, p, dof, expected = chi2_contingency(contingency_matrix)\n",
    "\n",
    "print(f\"Chi-square value: {chi2}\")\n",
    "print(f\"P-value: {p}\")\n",
    "print(f\"Degrees of freedom: {dof}\")\n",
    "print(f\"Expected frequencies: \\n{expected}\")\n",
    "\n",
    "# Interpret the p-value\n",
    "alpha = 0.05  # significance level\n",
    "if p < alpha:\n",
    "    print(\"There is a significant association between the group and retention status (reject H0).\")\n",
    "else:\n",
    "    print(\"There is no significant association between the group and retention status (fail to reject H0).\")"
   ]
  },
  {
   "cell_type": "code",
   "execution_count": null,
   "metadata": {},
   "outputs": [],
   "source": []
  }
 ],
 "metadata": {
  "kernelspec": {
   "display_name": "Python 3",
   "language": "python",
   "name": "python3"
  },
  "language_info": {
   "codemirror_mode": {
    "name": "ipython",
    "version": 3
   },
   "file_extension": ".py",
   "mimetype": "text/x-python",
   "name": "python",
   "nbconvert_exporter": "python",
   "pygments_lexer": "ipython3",
   "version": "3.9.1"
  }
 },
 "nbformat": 4,
 "nbformat_minor": 2
}
